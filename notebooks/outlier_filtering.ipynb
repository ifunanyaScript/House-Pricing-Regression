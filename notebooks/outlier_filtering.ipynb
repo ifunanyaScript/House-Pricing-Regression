{
 "cells": [
  {
   "cell_type": "markdown",
   "metadata": {},
   "source": [
    "## Outlier filtering"
   ]
  },
  {
   "cell_type": "markdown",
   "metadata": {},
   "source": [
    "A very important step in processing data is outlier filtering. An outlier can simply be defined as an exception; In this case, an entry that seems very unusual compared to the general pattern of the data.  \n",
    "For the purpose of this project, I want to train a model that is generic, i.e, a model that can be a good representation of house prices in Bengaluru. If we do not get rid of outliers in the data, it will definitely skew the prospective model.  \n",
    "Hence, we'll detect these outliers and deal with them appropriately."
   ]
  },
  {
   "cell_type": "code",
   "execution_count": 1,
   "metadata": {},
   "outputs": [],
   "source": [
    "# Import necessary packages.\n",
    "%matplotlib inline\n",
    "import matplotlib\n",
    "import matplotlib.pyplot as plt\n",
    "import pandas as pd\n",
    "import numpy as np\n",
    "\n",
    "# Ignoring all unnecessary warnings.\n",
    "pd.set_option('mode.chained_assignment', None)"
   ]
  },
  {
   "cell_type": "markdown",
   "metadata": {},
   "source": [
    "We'll load the dataframe we processed from the last notebook."
   ]
  },
  {
   "cell_type": "code",
   "execution_count": 2,
   "metadata": {},
   "outputs": [
    {
     "data": {
      "text/html": [
       "<div>\n",
       "<style scoped>\n",
       "    .dataframe tbody tr th:only-of-type {\n",
       "        vertical-align: middle;\n",
       "    }\n",
       "\n",
       "    .dataframe tbody tr th {\n",
       "        vertical-align: top;\n",
       "    }\n",
       "\n",
       "    .dataframe thead th {\n",
       "        text-align: right;\n",
       "    }\n",
       "</style>\n",
       "<table border=\"1\" class=\"dataframe\">\n",
       "  <thead>\n",
       "    <tr style=\"text-align: right;\">\n",
       "      <th></th>\n",
       "      <th>location</th>\n",
       "      <th>total_sqft</th>\n",
       "      <th>bath</th>\n",
       "      <th>price</th>\n",
       "      <th>bedrooms</th>\n",
       "      <th>price_per_sqft</th>\n",
       "    </tr>\n",
       "  </thead>\n",
       "  <tbody>\n",
       "    <tr>\n",
       "      <th>0</th>\n",
       "      <td>Electronic City Phase II</td>\n",
       "      <td>1056.0</td>\n",
       "      <td>2.0</td>\n",
       "      <td>39.07</td>\n",
       "      <td>2</td>\n",
       "      <td>3699.810606</td>\n",
       "    </tr>\n",
       "    <tr>\n",
       "      <th>1</th>\n",
       "      <td>Chikka Tirupathi</td>\n",
       "      <td>2600.0</td>\n",
       "      <td>5.0</td>\n",
       "      <td>120.00</td>\n",
       "      <td>4</td>\n",
       "      <td>4615.384615</td>\n",
       "    </tr>\n",
       "    <tr>\n",
       "      <th>2</th>\n",
       "      <td>Uttarahalli</td>\n",
       "      <td>1440.0</td>\n",
       "      <td>2.0</td>\n",
       "      <td>62.00</td>\n",
       "      <td>3</td>\n",
       "      <td>4305.555556</td>\n",
       "    </tr>\n",
       "    <tr>\n",
       "      <th>3</th>\n",
       "      <td>Lingadheeranahalli</td>\n",
       "      <td>1521.0</td>\n",
       "      <td>3.0</td>\n",
       "      <td>95.00</td>\n",
       "      <td>3</td>\n",
       "      <td>6245.890861</td>\n",
       "    </tr>\n",
       "    <tr>\n",
       "      <th>4</th>\n",
       "      <td>Kothanur</td>\n",
       "      <td>1200.0</td>\n",
       "      <td>2.0</td>\n",
       "      <td>51.00</td>\n",
       "      <td>2</td>\n",
       "      <td>4250.000000</td>\n",
       "    </tr>\n",
       "  </tbody>\n",
       "</table>\n",
       "</div>"
      ],
      "text/plain": [
       "                   location  total_sqft  bath   price  bedrooms  \\\n",
       "0  Electronic City Phase II      1056.0   2.0   39.07         2   \n",
       "1          Chikka Tirupathi      2600.0   5.0  120.00         4   \n",
       "2               Uttarahalli      1440.0   2.0   62.00         3   \n",
       "3        Lingadheeranahalli      1521.0   3.0   95.00         3   \n",
       "4                  Kothanur      1200.0   2.0   51.00         2   \n",
       "\n",
       "   price_per_sqft  \n",
       "0     3699.810606  \n",
       "1     4615.384615  \n",
       "2     4305.555556  \n",
       "3     6245.890861  \n",
       "4     4250.000000  "
      ]
     },
     "execution_count": 2,
     "metadata": {},
     "output_type": "execute_result"
    }
   ],
   "source": [
    "%store -r df1\n",
    "df1.head()"
   ]
  },
  {
   "cell_type": "markdown",
   "metadata": {},
   "source": [
    "In the last notebook, we saw all the entries where sqft per bedroom was below __320sqft__. This time around, we'll create a new dataframe where we remove all entries where sqft per bedroom is below __320sqft__."
   ]
  },
  {
   "cell_type": "code",
   "execution_count": 3,
   "metadata": {
    "execution": {
     "iopub.execute_input": "2022-06-30T15:32:57.971192Z",
     "iopub.status.busy": "2022-06-30T15:32:57.970779Z",
     "iopub.status.idle": "2022-06-30T15:32:57.982178Z",
     "shell.execute_reply": "2022-06-30T15:32:57.981001Z",
     "shell.execute_reply.started": "2022-06-30T15:32:57.971163Z"
    }
   },
   "outputs": [
    {
     "data": {
      "text/plain": [
       "((13246, 6), (12279, 6))"
      ]
     },
     "execution_count": 3,
     "metadata": {},
     "output_type": "execute_result"
    }
   ],
   "source": [
    "# Filter all entry where total_sqft/bedrooms is below 320sqft.\n",
    "df = df1[~(df1.total_sqft/df1.bedrooms<320)]\n",
    "\n",
    "# Compare samples before and after filtering.\n",
    "df1.shape, df.shape"
   ]
  },
  {
   "cell_type": "markdown",
   "metadata": {},
   "source": [
    "Perfect! We can see we have lost some samples of the data.  \n",
    "Another typical form of outlier in this type of dataset will be houses that are overly cheap or overly expensive.  \n",
    "With the __price_per_sqft__ feature we engineered in the previous notebook, we can easily determine houses that are too cheap or too expensive.  \n",
    "<br>\n",
    "Let's see some statistical info on the __price_per_sqft__ column..."
   ]
  },
  {
   "cell_type": "code",
   "execution_count": 4,
   "metadata": {
    "execution": {
     "iopub.execute_input": "2022-06-30T15:32:59.159506Z",
     "iopub.status.busy": "2022-06-30T15:32:59.158122Z",
     "iopub.status.idle": "2022-06-30T15:32:59.171486Z",
     "shell.execute_reply": "2022-06-30T15:32:59.170599Z",
     "shell.execute_reply.started": "2022-06-30T15:32:59.159450Z"
    },
    "scrolled": true
   },
   "outputs": [
    {
     "data": {
      "text/plain": [
       "count     12233.000000\n",
       "mean       6205.841652\n",
       "std        4049.334161\n",
       "min         267.829813\n",
       "25%        4200.000000\n",
       "50%        5263.157895\n",
       "75%        6818.181818\n",
       "max      176470.588235\n",
       "Name: price_per_sqft, dtype: float64"
      ]
     },
     "execution_count": 4,
     "metadata": {},
     "output_type": "execute_result"
    }
   ],
   "source": [
    "# Simple Statistics on price_per_sqft.\n",
    "df.price_per_sqft.describe()"
   ]
  },
  {
   "cell_type": "markdown",
   "metadata": {},
   "source": [
    "From the above insight, we can see that the average cost per sqft is 6300. However there is an entry where the cost per sqft is 267 and another where it is 176470. What a chasm!\n",
    "<br>\n",
    "The best practice of filtering this outliers is by removing any entry that lies beyond a specific threshold. Example, we can set a threshold of 2 standard deviation greater or less than the mean. Hence, any entry that lies beyond or before this threshold is effectively filtered."
   ]
  },
  {
   "cell_type": "code",
   "execution_count": 5,
   "metadata": {
    "execution": {
     "iopub.execute_input": "2022-06-30T15:33:01.651368Z",
     "iopub.status.busy": "2022-06-30T15:33:01.650348Z",
     "iopub.status.idle": "2022-06-30T15:33:01.660307Z",
     "shell.execute_reply": "2022-06-30T15:33:01.659165Z",
     "shell.execute_reply.started": "2022-06-30T15:33:01.651320Z"
    }
   },
   "outputs": [],
   "source": [
    "def filter_outliers1(dataframe):\n",
    "    ''' \n",
    "        This function takes the dataframe, and groupby the location.\n",
    "\n",
    "        For each location, we calculate the mean and standard deviation of the \n",
    "        price_per_sqft in that location.\n",
    "\n",
    "        Then we use the mean and standard deviation to filter entries that lie beyond some \n",
    "        specified threshold.\n",
    "    '''\n",
    "    df = pd.DataFrame()\n",
    "    for location, minidf in dataframe.groupby('location'):\n",
    "        mean = np.mean(minidf.price_per_sqft)\n",
    "        std = np.std(minidf.price_per_sqft)\n",
    "        filtered_df = minidf[(minidf.price_per_sqft>(mean-(std*1.5))) & (minidf.price_per_sqft<=(mean+(std*1.5)))]\n",
    "        df = pd.concat([df, filtered_df], ignore_index=True)\n",
    "    return df"
   ]
  },
  {
   "cell_type": "markdown",
   "metadata": {},
   "source": [
    "In the above function, notice how I group by location. This is very important because, cost varies from location to location and it will be insensible to just filter outliers with paying regards to locations."
   ]
  },
  {
   "cell_type": "code",
   "execution_count": 6,
   "metadata": {
    "execution": {
     "iopub.execute_input": "2022-06-30T15:33:03.272022Z",
     "iopub.status.busy": "2022-06-30T15:33:03.270694Z",
     "iopub.status.idle": "2022-06-30T15:33:03.750092Z",
     "shell.execute_reply": "2022-06-30T15:33:03.748971Z",
     "shell.execute_reply.started": "2022-06-30T15:33:03.271975Z"
    }
   },
   "outputs": [
    {
     "data": {
      "text/plain": [
       "(11262, 6)"
      ]
     },
     "execution_count": 6,
     "metadata": {},
     "output_type": "execute_result"
    }
   ],
   "source": [
    "df2 = filter_outliers1(df)\n",
    "df2.shape"
   ]
  },
  {
   "cell_type": "markdown",
   "metadata": {},
   "source": [
    "We got rid of quite some entries there.  \n",
    "<br>\n",
    "Let's have a look at the bedrooms column..."
   ]
  },
  {
   "cell_type": "code",
   "execution_count": 7,
   "metadata": {
    "execution": {
     "iopub.execute_input": "2022-06-30T15:33:05.939386Z",
     "iopub.status.busy": "2022-06-30T15:33:05.938474Z",
     "iopub.status.idle": "2022-06-30T15:33:05.949003Z",
     "shell.execute_reply": "2022-06-30T15:33:05.947602Z",
     "shell.execute_reply.started": "2022-06-30T15:33:05.939349Z"
    }
   },
   "outputs": [
    {
     "data": {
      "text/plain": [
       "bedrooms\n",
       "1      572\n",
       "2     5212\n",
       "3     4388\n",
       "4      829\n",
       "5      125\n",
       "6       65\n",
       "7       32\n",
       "8       19\n",
       "9       13\n",
       "10       3\n",
       "11       2\n",
       "13       1\n",
       "16       1\n",
       "Name: bedrooms, dtype: int64"
      ]
     },
     "execution_count": 7,
     "metadata": {},
     "output_type": "execute_result"
    }
   ],
   "source": [
    "# Number of houses in each \"bedrooms\" value.\n",
    "df2.groupby('bedrooms')['bedrooms'].agg('count')"
   ]
  },
  {
   "cell_type": "markdown",
   "metadata": {},
   "source": [
    "Apparently, most houses have 2 or 3 bedrooms.  \n",
    "I'm very much curious to see how prices vary between houses with 2 and 3 bedrooms in the same location.  \n",
    "We can visualize these differences through a scatter plot. We'll plot the total_sqft against price_per_sqft...."
   ]
  },
  {
   "cell_type": "code",
   "execution_count": 8,
   "metadata": {
    "execution": {
     "iopub.execute_input": "2022-06-30T15:33:07.852787Z",
     "iopub.status.busy": "2022-06-30T15:33:07.851337Z",
     "iopub.status.idle": "2022-06-30T15:33:08.036102Z",
     "shell.execute_reply": "2022-06-30T15:33:08.034736Z",
     "shell.execute_reply.started": "2022-06-30T15:33:07.852729Z"
    }
   },
   "outputs": [
    {
     "data": {
      "image/png": "[encoded data removed]",
      "text/plain": [
       "<Figure size 432x288 with 1 Axes>"
      ]
     },
     "metadata": {
      "needs_background": "light"
     },
     "output_type": "display_data"
    }
   ],
   "source": [
    "def scatter_plot(dataframe, location):\n",
    "    bedrooms2 = dataframe[(dataframe.location==location) & (dataframe.bedrooms==2)]\n",
    "    bedrooms3 = dataframe[(dataframe.location==location) & (dataframe.bedrooms==3)]\n",
    "    plt.scatter(bedrooms2.total_sqft, bedrooms2.price_per_sqft, color='cyan', label='2 Bedrooms', s=50)\n",
    "    plt.scatter(bedrooms3.total_sqft, bedrooms3.price_per_sqft, marker='+', color='pink', label='3 Bedrooms', s=50)\n",
    "    plt.xlabel('Total square feet area')\n",
    "    plt.ylabel('Price per square feet')\n",
    "    plt.title(f'Price comparison of houses in {location} with 2 or 3 bedrooms')\n",
    "    plt.legend()\n",
    "\n",
    "scatter_plot(df2, 'Marathahalli')"
   ]
  },
  {
   "cell_type": "markdown",
   "metadata": {},
   "source": [
    "See how some 3 bhk houses cost less than 2 bhk houses with the same total square feet area.<br>\n",
    "Normally you'll think that, in the same location, for more bhk, the price of a given house should<br>cost more than one with less bhk, provided the square feet area is fairly same.\n",
    "<br>\n",
    "So I'll go ahead and write a function that filters these outliers."
   ]
  },
  {
   "cell_type": "code",
   "execution_count": 9,
   "metadata": {
    "execution": {
     "iopub.execute_input": "2022-06-30T15:33:10.413475Z",
     "iopub.status.busy": "2022-06-30T15:33:10.413039Z",
     "iopub.status.idle": "2022-06-30T15:33:11.264973Z",
     "shell.execute_reply": "2022-06-30T15:33:11.263732Z",
     "shell.execute_reply.started": "2022-06-30T15:33:10.413443Z"
    }
   },
   "outputs": [
    {
     "data": {
      "text/plain": [
       "(8005, 6)"
      ]
     },
     "execution_count": 9,
     "metadata": {},
     "output_type": "execute_result"
    }
   ],
   "source": [
    "def filter_outliers2(dataframe):\n",
    "    '''First, I create an empty array that would hold the indices of the \n",
    "       outliers to filter/remove; filter_indices.\n",
    "       \n",
    "       Second, I group the dataframe by location; location_df\n",
    "       \n",
    "       Third, I create an empty dictionary 'bedroom_info', and then group 'location_df' by 'bedrooms'\n",
    "       \n",
    "       Fourth, I get the mean and standard deviation of the price per square feet of all the\n",
    "       house with a particular number of bedrooms in a particular Location. Also the count of the houses.\n",
    "       \n",
    "       Finally, I will use these statistical info to filter appropriate entries.\n",
    "      '''\n",
    "    filter_indices = np.array([])\n",
    "    for location, location_df in dataframe.groupby('location'):\n",
    "        bedroom_info = {}\n",
    "        for bedroom, bedroom_df in location_df.groupby('bedrooms'):\n",
    "            bedroom_info[bedroom] = {\n",
    "                'mean': np.mean(bedroom_df.price_per_sqft),\n",
    "                'std': np.std(bedroom_df.price_per_sqft),\n",
    "                'count': bedroom_df.shape[0]\n",
    "            }\n",
    "        for bedroom, bedroom_df in location_df.groupby('bedrooms'):\n",
    "            info = bedroom_info.get(bedroom-1)\n",
    "            # Ignoring bedroom values that have less than 5 count.\n",
    "            if info and info['count']>5:\n",
    "                filter_indices = np.append(filter_indices, \n",
    "                             bedroom_df[bedroom_df.price_per_sqft<(info['mean'])].index.values)\n",
    "                \n",
    "    # Drop outliers index-wise.\n",
    "    return dataframe.drop(filter_indices, axis='index')\n",
    "\n",
    "df3 = filter_outliers2(df2)\n",
    "df3.shape"
   ]
  },
  {
   "cell_type": "markdown",
   "metadata": {},
   "source": [
    "That took quite a while to process.  \n",
    "We can run the scatter plot again to see how our function worked out..."
   ]
  },
  {
   "cell_type": "code",
   "execution_count": 10,
   "metadata": {
    "execution": {
     "iopub.execute_input": "2022-06-30T15:33:13.250851Z",
     "iopub.status.busy": "2022-06-30T15:33:13.250374Z",
     "iopub.status.idle": "2022-06-30T15:33:13.451187Z",
     "shell.execute_reply": "2022-06-30T15:33:13.449750Z",
     "shell.execute_reply.started": "2022-06-30T15:33:13.250814Z"
    }
   },
   "outputs": [
    {
     "data": {
      "image/png": "[encoded data removed]",
      "text/plain": [
       "<Figure size 432x288 with 1 Axes>"
      ]
     },
     "metadata": {
      "needs_background": "light"
     },
     "output_type": "display_data"
    }
   ],
   "source": [
    "scatter_plot(df3, 'Marathahalli')"
   ]
  },
  {
   "cell_type": "markdown",
   "metadata": {},
   "source": [
    "We succeeded in filtering most of those outliers. It would also be important to notice that sometimes outlier filtering is not 100% efficient, especially when it is automated. The computer might make slim omissions, but it is good enough.\n",
    "<br>\n",
    "Let's examine the bath column..."
   ]
  },
  {
   "cell_type": "code",
   "execution_count": 11,
   "metadata": {
    "execution": {
     "iopub.execute_input": "2022-06-30T15:36:12.905540Z",
     "iopub.status.busy": "2022-06-30T15:36:12.905126Z",
     "iopub.status.idle": "2022-06-30T15:36:12.914990Z",
     "shell.execute_reply": "2022-06-30T15:36:12.913540Z",
     "shell.execute_reply.started": "2022-06-30T15:36:12.905509Z"
    },
    "scrolled": true
   },
   "outputs": [
    {
     "data": {
      "text/plain": [
       "array([ 4.,  3.,  2.,  1.,  8.,  5.,  7.,  6.,  9., 12., 10., 14., 16.,\n",
       "       13.])"
      ]
     },
     "execution_count": 11,
     "metadata": {},
     "output_type": "execute_result"
    }
   ],
   "source": [
    "df3.bath.unique()"
   ]
  },
  {
   "cell_type": "markdown",
   "metadata": {},
   "source": [
    "Wow! There are houses with over 9 bathrooms.  \n",
    "We can have a look at all the houses that have more than 9 bathrooms."
   ]
  },
  {
   "cell_type": "code",
   "execution_count": 12,
   "metadata": {
    "execution": {
     "iopub.execute_input": "2022-06-30T15:36:52.316458Z",
     "iopub.status.busy": "2022-06-30T15:36:52.316003Z",
     "iopub.status.idle": "2022-06-30T15:36:52.333612Z",
     "shell.execute_reply": "2022-06-30T15:36:52.332429Z",
     "shell.execute_reply.started": "2022-06-30T15:36:52.316426Z"
    }
   },
   "outputs": [
    {
     "data": {
      "text/html": [
       "<div>\n",
       "<style scoped>\n",
       "    .dataframe tbody tr th:only-of-type {\n",
       "        vertical-align: middle;\n",
       "    }\n",
       "\n",
       "    .dataframe tbody tr th {\n",
       "        vertical-align: top;\n",
       "    }\n",
       "\n",
       "    .dataframe thead th {\n",
       "        text-align: right;\n",
       "    }\n",
       "</style>\n",
       "<table border=\"1\" class=\"dataframe\">\n",
       "  <thead>\n",
       "    <tr style=\"text-align: right;\">\n",
       "      <th></th>\n",
       "      <th>location</th>\n",
       "      <th>total_sqft</th>\n",
       "      <th>bath</th>\n",
       "      <th>price</th>\n",
       "      <th>bedrooms</th>\n",
       "      <th>price_per_sqft</th>\n",
       "    </tr>\n",
       "  </thead>\n",
       "  <tbody>\n",
       "    <tr>\n",
       "      <th>5912</th>\n",
       "      <td>Neeladri Nagar</td>\n",
       "      <td>4000.0</td>\n",
       "      <td>12.0</td>\n",
       "      <td>160.0</td>\n",
       "      <td>10</td>\n",
       "      <td>4000.000000</td>\n",
       "    </tr>\n",
       "    <tr>\n",
       "      <th>8008</th>\n",
       "      <td>Vidyaranyapura</td>\n",
       "      <td>4700.0</td>\n",
       "      <td>10.0</td>\n",
       "      <td>130.0</td>\n",
       "      <td>9</td>\n",
       "      <td>2765.957447</td>\n",
       "    </tr>\n",
       "    <tr>\n",
       "      <th>9133</th>\n",
       "      <td>other_locations</td>\n",
       "      <td>3300.0</td>\n",
       "      <td>14.0</td>\n",
       "      <td>500.0</td>\n",
       "      <td>9</td>\n",
       "      <td>15151.515152</td>\n",
       "    </tr>\n",
       "    <tr>\n",
       "      <th>9580</th>\n",
       "      <td>other_locations</td>\n",
       "      <td>10000.0</td>\n",
       "      <td>16.0</td>\n",
       "      <td>550.0</td>\n",
       "      <td>16</td>\n",
       "      <td>5500.000000</td>\n",
       "    </tr>\n",
       "    <tr>\n",
       "      <th>10314</th>\n",
       "      <td>other_locations</td>\n",
       "      <td>6000.0</td>\n",
       "      <td>12.0</td>\n",
       "      <td>150.0</td>\n",
       "      <td>11</td>\n",
       "      <td>2500.000000</td>\n",
       "    </tr>\n",
       "    <tr>\n",
       "      <th>10653</th>\n",
       "      <td>other_locations</td>\n",
       "      <td>5425.0</td>\n",
       "      <td>13.0</td>\n",
       "      <td>275.0</td>\n",
       "      <td>13</td>\n",
       "      <td>5069.124424</td>\n",
       "    </tr>\n",
       "  </tbody>\n",
       "</table>\n",
       "</div>"
      ],
      "text/plain": [
       "              location  total_sqft  bath  price  bedrooms  price_per_sqft\n",
       "5912    Neeladri Nagar      4000.0  12.0  160.0        10     4000.000000\n",
       "8008    Vidyaranyapura      4700.0  10.0  130.0         9     2765.957447\n",
       "9133   other_locations      3300.0  14.0  500.0         9    15151.515152\n",
       "9580   other_locations     10000.0  16.0  550.0        16     5500.000000\n",
       "10314  other_locations      6000.0  12.0  150.0        11     2500.000000\n",
       "10653  other_locations      5425.0  13.0  275.0        13     5069.124424"
      ]
     },
     "execution_count": 12,
     "metadata": {},
     "output_type": "execute_result"
    }
   ],
   "source": [
    "# The entries in the dataset where bath is greater than 9.\n",
    "df3[df3.bath>9]"
   ]
  },
  {
   "cell_type": "markdown",
   "metadata": {},
   "source": [
    "Okay there are only a few entries like that in the dataset.  \n",
    "We will use a histogram to see the distribution of bathrooms accross the dataset."
   ]
  },
  {
   "cell_type": "code",
   "execution_count": 13,
   "metadata": {
    "execution": {
     "iopub.execute_input": "2022-06-30T15:36:55.923247Z",
     "iopub.status.busy": "2022-06-30T15:36:55.922837Z",
     "iopub.status.idle": "2022-06-30T15:36:56.087165Z",
     "shell.execute_reply": "2022-06-30T15:36:56.086380Z",
     "shell.execute_reply.started": "2022-06-30T15:36:55.923216Z"
    }
   },
   "outputs": [
    {
     "data": {
      "image/png": "[encoded data removed]",
      "text/plain": [
       "<Figure size 432x288 with 1 Axes>"
      ]
     },
     "metadata": {
      "needs_background": "light"
     },
     "output_type": "display_data"
    }
   ],
   "source": [
    "# Histogram showing frequency of bathrooms.\n",
    "plt.hist(df3.bath, rwidth=.7)\n",
    "plt.xlabel('Number of bathrooms')\n",
    "plt.ylabel('Counts')\n",
    "plt.show()"
   ]
  },
  {
   "cell_type": "markdown",
   "metadata": {},
   "source": [
    "From the dataframe, we can see that there are houses that have more bathrooms than bedrooms. Incredible!  \n",
    "<br>\n",
    "This could be a subjective take, but I personally don't see a reason why a house would have more bathrooms than bedrooms. This would certainly be an anomaly.  \n",
    "Let's have a look at entries where there are more than two extra bathrooms."
   ]
  },
  {
   "cell_type": "code",
   "execution_count": 14,
   "metadata": {
    "execution": {
     "iopub.execute_input": "2022-06-30T15:37:22.707843Z",
     "iopub.status.busy": "2022-06-30T15:37:22.706343Z",
     "iopub.status.idle": "2022-06-30T15:37:22.729322Z",
     "shell.execute_reply": "2022-06-30T15:37:22.728120Z",
     "shell.execute_reply.started": "2022-06-30T15:37:22.707786Z"
    }
   },
   "outputs": [
    {
     "data": {
      "text/html": [
       "<div>\n",
       "<style scoped>\n",
       "    .dataframe tbody tr th:only-of-type {\n",
       "        vertical-align: middle;\n",
       "    }\n",
       "\n",
       "    .dataframe tbody tr th {\n",
       "        vertical-align: top;\n",
       "    }\n",
       "\n",
       "    .dataframe thead th {\n",
       "        text-align: right;\n",
       "    }\n",
       "</style>\n",
       "<table border=\"1\" class=\"dataframe\">\n",
       "  <thead>\n",
       "    <tr style=\"text-align: right;\">\n",
       "      <th></th>\n",
       "      <th>location</th>\n",
       "      <th>total_sqft</th>\n",
       "      <th>bath</th>\n",
       "      <th>price</th>\n",
       "      <th>bedrooms</th>\n",
       "      <th>price_per_sqft</th>\n",
       "    </tr>\n",
       "  </thead>\n",
       "  <tbody>\n",
       "    <tr>\n",
       "      <th>1784</th>\n",
       "      <td>Chikkabanavar</td>\n",
       "      <td>2460.0</td>\n",
       "      <td>7.0</td>\n",
       "      <td>80.0</td>\n",
       "      <td>4</td>\n",
       "      <td>3252.032520</td>\n",
       "    </tr>\n",
       "    <tr>\n",
       "      <th>5863</th>\n",
       "      <td>Nagasandra</td>\n",
       "      <td>7000.0</td>\n",
       "      <td>8.0</td>\n",
       "      <td>450.0</td>\n",
       "      <td>4</td>\n",
       "      <td>6428.571429</td>\n",
       "    </tr>\n",
       "    <tr>\n",
       "      <th>7608</th>\n",
       "      <td>Thanisandra</td>\n",
       "      <td>1806.0</td>\n",
       "      <td>6.0</td>\n",
       "      <td>116.0</td>\n",
       "      <td>3</td>\n",
       "      <td>6423.034330</td>\n",
       "    </tr>\n",
       "    <tr>\n",
       "      <th>9133</th>\n",
       "      <td>other_locations</td>\n",
       "      <td>3300.0</td>\n",
       "      <td>14.0</td>\n",
       "      <td>500.0</td>\n",
       "      <td>9</td>\n",
       "      <td>15151.515152</td>\n",
       "    </tr>\n",
       "    <tr>\n",
       "      <th>9418</th>\n",
       "      <td>other_locations</td>\n",
       "      <td>11338.0</td>\n",
       "      <td>9.0</td>\n",
       "      <td>1000.0</td>\n",
       "      <td>6</td>\n",
       "      <td>8819.897689</td>\n",
       "    </tr>\n",
       "  </tbody>\n",
       "</table>\n",
       "</div>"
      ],
      "text/plain": [
       "             location  total_sqft  bath   price  bedrooms  price_per_sqft\n",
       "1784    Chikkabanavar      2460.0   7.0    80.0         4     3252.032520\n",
       "5863       Nagasandra      7000.0   8.0   450.0         4     6428.571429\n",
       "7608      Thanisandra      1806.0   6.0   116.0         3     6423.034330\n",
       "9133  other_locations      3300.0  14.0   500.0         9    15151.515152\n",
       "9418  other_locations     11338.0   9.0  1000.0         6     8819.897689"
      ]
     },
     "execution_count": 14,
     "metadata": {},
     "output_type": "execute_result"
    }
   ],
   "source": [
    "# Houses with excess bathrooms\n",
    "df3[df3.bath>df3.bedrooms+2]"
   ]
  },
  {
   "cell_type": "markdown",
   "metadata": {},
   "source": [
    "Yowza! There is a house that has 2 times more bathrooms than bedrooms, Incredible!  \n",
    "<br>\n",
    "Considerately, I will spare entries that have at most 1 extra bathroom.  \n",
    "We will create a new dataframe and make that effect."
   ]
  },
  {
   "cell_type": "code",
   "execution_count": 15,
   "metadata": {
    "execution": {
     "iopub.execute_input": "2022-06-30T15:37:23.827906Z",
     "iopub.status.busy": "2022-06-30T15:37:23.826345Z",
     "iopub.status.idle": "2022-06-30T15:37:23.837809Z",
     "shell.execute_reply": "2022-06-30T15:37:23.836287Z",
     "shell.execute_reply.started": "2022-06-30T15:37:23.827841Z"
    },
    "scrolled": true
   },
   "outputs": [
    {
     "data": {
      "text/plain": [
       "(7910, 6)"
      ]
     },
     "execution_count": 15,
     "metadata": {},
     "output_type": "execute_result"
    }
   ],
   "source": [
    "df4 = df3[df3.bath<df3.bedrooms+2]\n",
    "df4.shape"
   ]
  },
  {
   "cell_type": "markdown",
   "metadata": {},
   "source": [
    "Fine, we filtered almost 100 entries there.  \n",
    "Moving on....\n",
    "<br>\n",
    "As I earlier mentioned in the previous notebook, sometimes engineered features can be used to make smoother analysis and we've seen that so far. We used the price_per_sqft column to facilitate most of the outlier filtering.  \n",
    "However, we do not need this feature in training the model hence, we'll drop this column."
   ]
  },
  {
   "cell_type": "code",
   "execution_count": 16,
   "metadata": {
    "execution": {
     "iopub.execute_input": "2022-06-30T15:37:33.148693Z",
     "iopub.status.busy": "2022-06-30T15:37:33.147766Z",
     "iopub.status.idle": "2022-06-30T15:37:33.164298Z",
     "shell.execute_reply": "2022-06-30T15:37:33.163092Z",
     "shell.execute_reply.started": "2022-06-30T15:37:33.148632Z"
    }
   },
   "outputs": [
    {
     "data": {
      "text/html": [
       "<div>\n",
       "<style scoped>\n",
       "    .dataframe tbody tr th:only-of-type {\n",
       "        vertical-align: middle;\n",
       "    }\n",
       "\n",
       "    .dataframe tbody tr th {\n",
       "        vertical-align: top;\n",
       "    }\n",
       "\n",
       "    .dataframe thead th {\n",
       "        text-align: right;\n",
       "    }\n",
       "</style>\n",
       "<table border=\"1\" class=\"dataframe\">\n",
       "  <thead>\n",
       "    <tr style=\"text-align: right;\">\n",
       "      <th></th>\n",
       "      <th>location</th>\n",
       "      <th>total_sqft</th>\n",
       "      <th>bath</th>\n",
       "      <th>price</th>\n",
       "      <th>bedrooms</th>\n",
       "    </tr>\n",
       "  </thead>\n",
       "  <tbody>\n",
       "    <tr>\n",
       "      <th>0</th>\n",
       "      <td>1st Block Jayanagar</td>\n",
       "      <td>2850.0</td>\n",
       "      <td>4.0</td>\n",
       "      <td>428.0</td>\n",
       "      <td>4</td>\n",
       "    </tr>\n",
       "    <tr>\n",
       "      <th>1</th>\n",
       "      <td>1st Block Jayanagar</td>\n",
       "      <td>1630.0</td>\n",
       "      <td>3.0</td>\n",
       "      <td>194.0</td>\n",
       "      <td>3</td>\n",
       "    </tr>\n",
       "    <tr>\n",
       "      <th>2</th>\n",
       "      <td>1st Block Jayanagar</td>\n",
       "      <td>1875.0</td>\n",
       "      <td>2.0</td>\n",
       "      <td>235.0</td>\n",
       "      <td>3</td>\n",
       "    </tr>\n",
       "    <tr>\n",
       "      <th>3</th>\n",
       "      <td>1st Block Jayanagar</td>\n",
       "      <td>1200.0</td>\n",
       "      <td>2.0</td>\n",
       "      <td>130.0</td>\n",
       "      <td>3</td>\n",
       "    </tr>\n",
       "    <tr>\n",
       "      <th>4</th>\n",
       "      <td>1st Block Jayanagar</td>\n",
       "      <td>1235.0</td>\n",
       "      <td>2.0</td>\n",
       "      <td>148.0</td>\n",
       "      <td>2</td>\n",
       "    </tr>\n",
       "  </tbody>\n",
       "</table>\n",
       "</div>"
      ],
      "text/plain": [
       "              location  total_sqft  bath  price  bedrooms\n",
       "0  1st Block Jayanagar      2850.0   4.0  428.0         4\n",
       "1  1st Block Jayanagar      1630.0   3.0  194.0         3\n",
       "2  1st Block Jayanagar      1875.0   2.0  235.0         3\n",
       "3  1st Block Jayanagar      1200.0   2.0  130.0         3\n",
       "4  1st Block Jayanagar      1235.0   2.0  148.0         2"
      ]
     },
     "execution_count": 16,
     "metadata": {},
     "output_type": "execute_result"
    }
   ],
   "source": [
    "df5 = df4.drop(['price_per_sqft'], axis=1)\n",
    "df5.head()"
   ]
  },
  {
   "cell_type": "markdown",
   "metadata": {},
   "source": [
    "We'll save the processed dataframe.  \n",
    "We'll use the dataframe in the next notebook... __Regression modelling__."
   ]
  },
  {
   "cell_type": "code",
   "execution_count": 17,
   "metadata": {},
   "outputs": [
    {
     "name": "stdout",
     "output_type": "stream",
     "text": [
      "Stored 'df5' (DataFrame)\n"
     ]
    }
   ],
   "source": [
    "%store df5"
   ]
  },
  {
   "cell_type": "code",
   "execution_count": 18,
   "metadata": {},
   "outputs": [],
   "source": [
    "# ifunanyaScript"
   ]
  }
 ],
 "metadata": {
  "kernelspec": {
   "display_name": "Python 3 (ipykernel)",
   "language": "python",
   "name": "python3"
  },
  "language_info": {
   "codemirror_mode": {
    "name": "ipython",
    "version": 3
   },
   "file_extension": ".py",
   "mimetype": "text/x-python",
   "name": "python",
   "nbconvert_exporter": "python",
   "pygments_lexer": "ipython3",
   "version": "3.9.12"
  }
 },
 "nbformat": 4,
 "nbformat_minor": 4
}
