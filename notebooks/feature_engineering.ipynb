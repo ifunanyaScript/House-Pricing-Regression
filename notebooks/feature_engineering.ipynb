{
 "cells": [
  {
   "cell_type": "markdown",
   "metadata": {},
   "source": [
    "# Feature Engineering\n",
    "Feature engineering as the name suggest is a process of generating new features from existing features.  \n",
    "Most times, feature engineering is used to improve the robustness and accuracy of a model. Meaning, we create new logical information from the existing information, so the model learns this new information and becomes even more robust and efficient.  \n",
    "<br>\n",
    "However, feature engineering could also be used to make analysis smoother. And in this situation, we'll be using feature engineering to make smoother analysis and further clean the data."
   ]
  },
  {
   "cell_type": "code",
   "execution_count": 1,
   "metadata": {},
   "outputs": [],
   "source": [
    "# Import necessary package(s).\n",
    "import pandas as pd"
   ]
  },
  {
   "cell_type": "markdown",
   "metadata": {},
   "source": [
    "In the previous notebook, we saved our processed dataframe.  \n",
    "We'll load that dataframe and assign it to a new __df__."
   ]
  },
  {
   "cell_type": "code",
   "execution_count": 2,
   "metadata": {},
   "outputs": [],
   "source": [
    "%store -r df3\n",
    "df = df3"
   ]
  },
  {
   "cell_type": "code",
   "execution_count": 3,
   "metadata": {},
   "outputs": [
    {
     "data": {
      "text/html": [
       "<div>\n",
       "<style scoped>\n",
       "    .dataframe tbody tr th:only-of-type {\n",
       "        vertical-align: middle;\n",
       "    }\n",
       "\n",
       "    .dataframe tbody tr th {\n",
       "        vertical-align: top;\n",
       "    }\n",
       "\n",
       "    .dataframe thead th {\n",
       "        text-align: right;\n",
       "    }\n",
       "</style>\n",
       "<table border=\"1\" class=\"dataframe\">\n",
       "  <thead>\n",
       "    <tr style=\"text-align: right;\">\n",
       "      <th></th>\n",
       "      <th>location</th>\n",
       "      <th>total_sqft</th>\n",
       "      <th>bath</th>\n",
       "      <th>price</th>\n",
       "      <th>bedrooms</th>\n",
       "    </tr>\n",
       "  </thead>\n",
       "  <tbody>\n",
       "    <tr>\n",
       "      <th>0</th>\n",
       "      <td>Electronic City Phase II</td>\n",
       "      <td>1056.0</td>\n",
       "      <td>2.0</td>\n",
       "      <td>39.07</td>\n",
       "      <td>2</td>\n",
       "    </tr>\n",
       "    <tr>\n",
       "      <th>1</th>\n",
       "      <td>Chikka Tirupathi</td>\n",
       "      <td>2600.0</td>\n",
       "      <td>5.0</td>\n",
       "      <td>120.00</td>\n",
       "      <td>4</td>\n",
       "    </tr>\n",
       "    <tr>\n",
       "      <th>2</th>\n",
       "      <td>Uttarahalli</td>\n",
       "      <td>1440.0</td>\n",
       "      <td>2.0</td>\n",
       "      <td>62.00</td>\n",
       "      <td>3</td>\n",
       "    </tr>\n",
       "    <tr>\n",
       "      <th>3</th>\n",
       "      <td>Lingadheeranahalli</td>\n",
       "      <td>1521.0</td>\n",
       "      <td>3.0</td>\n",
       "      <td>95.00</td>\n",
       "      <td>3</td>\n",
       "    </tr>\n",
       "    <tr>\n",
       "      <th>4</th>\n",
       "      <td>Kothanur</td>\n",
       "      <td>1200.0</td>\n",
       "      <td>2.0</td>\n",
       "      <td>51.00</td>\n",
       "      <td>2</td>\n",
       "    </tr>\n",
       "  </tbody>\n",
       "</table>\n",
       "</div>"
      ],
      "text/plain": [
       "                   location  total_sqft  bath   price  bedrooms\n",
       "0  Electronic City Phase II      1056.0   2.0   39.07         2\n",
       "1          Chikka Tirupathi      2600.0   5.0  120.00         4\n",
       "2               Uttarahalli      1440.0   2.0   62.00         3\n",
       "3        Lingadheeranahalli      1521.0   3.0   95.00         3\n",
       "4                  Kothanur      1200.0   2.0   51.00         2"
      ]
     },
     "execution_count": 3,
     "metadata": {},
     "output_type": "execute_result"
    }
   ],
   "source": [
    "df.head()"
   ]
  },
  {
   "cell_type": "markdown",
   "metadata": {},
   "source": [
    "An indicative parameter on whether a house is reasonably priced, is the price per sqft of said house.  \n",
    "It can easily tell you whether the house is a good deal or otherwise. You could also use it to gauge the value of the house in the real estate market.  \n",
    "Hence, we'll engineer a new feature, __price_per_sqft;__ we have a price column and a total_sqft column. We'll simply divide price by total_sqft and we'll have the new feature. "
   ]
  },
  {
   "cell_type": "code",
   "execution_count": 4,
   "metadata": {
    "execution": {
     "iopub.execute_input": "2022-06-30T15:32:36.811378Z",
     "iopub.status.busy": "2022-06-30T15:32:36.811008Z",
     "iopub.status.idle": "2022-06-30T15:32:36.830290Z",
     "shell.execute_reply": "2022-06-30T15:32:36.829068Z",
     "shell.execute_reply.started": "2022-06-30T15:32:36.811349Z"
    }
   },
   "outputs": [
    {
     "data": {
      "text/html": [
       "<div>\n",
       "<style scoped>\n",
       "    .dataframe tbody tr th:only-of-type {\n",
       "        vertical-align: middle;\n",
       "    }\n",
       "\n",
       "    .dataframe tbody tr th {\n",
       "        vertical-align: top;\n",
       "    }\n",
       "\n",
       "    .dataframe thead th {\n",
       "        text-align: right;\n",
       "    }\n",
       "</style>\n",
       "<table border=\"1\" class=\"dataframe\">\n",
       "  <thead>\n",
       "    <tr style=\"text-align: right;\">\n",
       "      <th></th>\n",
       "      <th>location</th>\n",
       "      <th>total_sqft</th>\n",
       "      <th>bath</th>\n",
       "      <th>price</th>\n",
       "      <th>bedrooms</th>\n",
       "      <th>price_per_sqft</th>\n",
       "    </tr>\n",
       "  </thead>\n",
       "  <tbody>\n",
       "    <tr>\n",
       "      <th>0</th>\n",
       "      <td>Electronic City Phase II</td>\n",
       "      <td>1056.0</td>\n",
       "      <td>2.0</td>\n",
       "      <td>39.07</td>\n",
       "      <td>2</td>\n",
       "      <td>3699.810606</td>\n",
       "    </tr>\n",
       "    <tr>\n",
       "      <th>1</th>\n",
       "      <td>Chikka Tirupathi</td>\n",
       "      <td>2600.0</td>\n",
       "      <td>5.0</td>\n",
       "      <td>120.00</td>\n",
       "      <td>4</td>\n",
       "      <td>4615.384615</td>\n",
       "    </tr>\n",
       "    <tr>\n",
       "      <th>2</th>\n",
       "      <td>Uttarahalli</td>\n",
       "      <td>1440.0</td>\n",
       "      <td>2.0</td>\n",
       "      <td>62.00</td>\n",
       "      <td>3</td>\n",
       "      <td>4305.555556</td>\n",
       "    </tr>\n",
       "    <tr>\n",
       "      <th>3</th>\n",
       "      <td>Lingadheeranahalli</td>\n",
       "      <td>1521.0</td>\n",
       "      <td>3.0</td>\n",
       "      <td>95.00</td>\n",
       "      <td>3</td>\n",
       "      <td>6245.890861</td>\n",
       "    </tr>\n",
       "    <tr>\n",
       "      <th>4</th>\n",
       "      <td>Kothanur</td>\n",
       "      <td>1200.0</td>\n",
       "      <td>2.0</td>\n",
       "      <td>51.00</td>\n",
       "      <td>2</td>\n",
       "      <td>4250.000000</td>\n",
       "    </tr>\n",
       "  </tbody>\n",
       "</table>\n",
       "</div>"
      ],
      "text/plain": [
       "                   location  total_sqft  bath   price  bedrooms  \\\n",
       "0  Electronic City Phase II      1056.0   2.0   39.07         2   \n",
       "1          Chikka Tirupathi      2600.0   5.0  120.00         4   \n",
       "2               Uttarahalli      1440.0   2.0   62.00         3   \n",
       "3        Lingadheeranahalli      1521.0   3.0   95.00         3   \n",
       "4                  Kothanur      1200.0   2.0   51.00         2   \n",
       "\n",
       "   price_per_sqft  \n",
       "0     3699.810606  \n",
       "1     4615.384615  \n",
       "2     4305.555556  \n",
       "3     6245.890861  \n",
       "4     4250.000000  "
      ]
     },
     "execution_count": 4,
     "metadata": {},
     "output_type": "execute_result"
    }
   ],
   "source": [
    "df1 = df.copy()\n",
    "\n",
    "# Multiply the price by 100000; 1 lakh = 100000(hundred thousand)\n",
    "df1['price_per_sqft'] = df1['price']*100000/df1['total_sqft']\n",
    "df1.head()"
   ]
  },
  {
   "cell_type": "markdown",
   "metadata": {},
   "source": [
    "As we can see, it a lot easier to just evaluate the value of a house with this new column.  Much more so, you can easily compare different houses and perhaps secure a better deal for yourself."
   ]
  },
  {
   "cell_type": "markdown",
   "metadata": {},
   "source": [
    "Another important feature that would very much affect the cost of a house is the location of said house.  In Nigeria, there are locations where a 1 bedroom apartment cost much more than a 4 bedroom apartment in another location; it is also apparent in this dataset.  \n",
    "This goes to show that location is a very important variable in determining the price of a house.  \n",
    "<br>\n",
    "Let's have a look at the location column..."
   ]
  },
  {
   "cell_type": "code",
   "execution_count": 5,
   "metadata": {
    "execution": {
     "iopub.execute_input": "2022-06-30T15:32:39.331524Z",
     "iopub.status.busy": "2022-06-30T15:32:39.331108Z",
     "iopub.status.idle": "2022-06-30T15:32:39.339914Z",
     "shell.execute_reply": "2022-06-30T15:32:39.339072Z",
     "shell.execute_reply.started": "2022-06-30T15:32:39.331485Z"
    }
   },
   "outputs": [
    {
     "data": {
      "text/plain": [
       "1304"
      ]
     },
     "execution_count": 5,
     "metadata": {},
     "output_type": "execute_result"
    }
   ],
   "source": [
    "# Number of locations in the dataset.\n",
    "len(df1.location.unique())"
   ]
  },
  {
   "cell_type": "markdown",
   "metadata": {},
   "source": [
    "Yowza! 1304 locations, that's a lot.  \n",
    "Let's have a deeper look into this. We can check how many houses are in each of this locations."
   ]
  },
  {
   "cell_type": "code",
   "execution_count": 6,
   "metadata": {
    "execution": {
     "iopub.execute_input": "2022-06-30T15:32:40.632464Z",
     "iopub.status.busy": "2022-06-30T15:32:40.631286Z",
     "iopub.status.idle": "2022-06-30T15:32:40.650098Z",
     "shell.execute_reply": "2022-06-30T15:32:40.648823Z",
     "shell.execute_reply.started": "2022-06-30T15:32:40.632403Z"
    }
   },
   "outputs": [
    {
     "data": {
      "text/plain": [
       "location\n",
       "Whitefield                  535\n",
       "Sarjapur  Road              392\n",
       "Electronic City             304\n",
       "Kanakpura Road              266\n",
       "Thanisandra                 236\n",
       "Yelahanka                   210\n",
       "Uttarahalli                 186\n",
       "Hebbal                      176\n",
       "Marathahalli                175\n",
       "Raja Rajeshwari Nagar       171\n",
       "Bannerghatta Road           152\n",
       "Hennur Road                 150\n",
       "7th Phase JP Nagar          149\n",
       "Haralur Road                141\n",
       "Electronic City Phase II    131\n",
       "Rajaji Nagar                106\n",
       "Chandapura                   98\n",
       "Bellandur                    96\n",
       "KR Puram                     88\n",
       "Hoodi                        88\n",
       "Electronics City Phase 1     87\n",
       "Yeshwanthpur                 85\n",
       "Begur Road                   84\n",
       "Sarjapur                     81\n",
       "Kasavanhalli                 79\n",
       "Harlur                       79\n",
       "Hormavu                      74\n",
       "Banashankari                 74\n",
       "Ramamurthy Nagar             73\n",
       "Kengeri                      73\n",
       "Name: location, dtype: int64"
      ]
     },
     "execution_count": 6,
     "metadata": {},
     "output_type": "execute_result"
    }
   ],
   "source": [
    "# Get rid of unnecessary spaces in the location string.\n",
    "df1.location = df1.location.apply(lambda x: x.strip())\n",
    "\n",
    "# Number of houses in each location.\n",
    "location_tally = df1.groupby('location')['location'].agg('count').sort_values(ascending=False)\n",
    "location_tally.head(30)"
   ]
  },
  {
   "cell_type": "markdown",
   "metadata": {},
   "source": [
    "We can see that some locations are more populated that others.  \n",
    "However, there could be some locations that are extremely sparse.  \n",
    "Let's see how many locations have 10 houses or less."
   ]
  },
  {
   "cell_type": "code",
   "execution_count": 7,
   "metadata": {
    "execution": {
     "iopub.execute_input": "2022-06-30T15:32:41.911660Z",
     "iopub.status.busy": "2022-06-30T15:32:41.911101Z",
     "iopub.status.idle": "2022-06-30T15:32:41.920299Z",
     "shell.execute_reply": "2022-06-30T15:32:41.919390Z",
     "shell.execute_reply.started": "2022-06-30T15:32:41.911619Z"
    }
   },
   "outputs": [
    {
     "data": {
      "text/plain": [
       "1052"
      ]
     },
     "execution_count": 7,
     "metadata": {},
     "output_type": "execute_result"
    }
   ],
   "source": [
    "# Number of sparse locations\n",
    "len(location_tally[location_tally<=10])"
   ]
  },
  {
   "cell_type": "code",
   "execution_count": 8,
   "metadata": {
    "execution": {
     "iopub.execute_input": "2022-06-30T15:32:47.380228Z",
     "iopub.status.busy": "2022-06-30T15:32:47.379525Z",
     "iopub.status.idle": "2022-06-30T15:32:47.390264Z",
     "shell.execute_reply": "2022-06-30T15:32:47.389329Z",
     "shell.execute_reply.started": "2022-06-30T15:32:47.380178Z"
    }
   },
   "outputs": [
    {
     "data": {
      "text/plain": [
       "location\n",
       "Basapura                 10\n",
       "1st Block Koramangala    10\n",
       "Gunjur Palya             10\n",
       "Kalkere                  10\n",
       "Sector 1 HSR Layout      10\n",
       "                         ..\n",
       "1 Giri Nagar              1\n",
       "Kanakapura Road,          1\n",
       "Kanakapura main  Road     1\n",
       "Karnataka Shabarimala     1\n",
       "whitefiled                1\n",
       "Name: location, Length: 1052, dtype: int64"
      ]
     },
     "execution_count": 8,
     "metadata": {},
     "output_type": "execute_result"
    }
   ],
   "source": [
    "sparse_locations = location_tally[location_tally<=10]\n",
    "sparse_locations"
   ]
  },
  {
   "cell_type": "markdown",
   "metadata": {},
   "source": [
    "There are so much of this sparse locations, even locations having just one house.  \n",
    "I personally do not think this sparse location will have a great effect on the regression.  \n",
    "However, if we decide to take all of these locations into account, we will incur a dimensionality excess. \n",
    "\n",
    "Hence, I think it's fair to tie up these sparse locations into one collective variable, __\"other_locations\"__."
   ]
  },
  {
   "cell_type": "code",
   "execution_count": 9,
   "metadata": {
    "execution": {
     "iopub.execute_input": "2022-06-30T15:32:50.011559Z",
     "iopub.status.busy": "2022-06-30T15:32:50.010977Z",
     "iopub.status.idle": "2022-06-30T15:32:50.034246Z",
     "shell.execute_reply": "2022-06-30T15:32:50.033134Z",
     "shell.execute_reply.started": "2022-06-30T15:32:50.011515Z"
    }
   },
   "outputs": [],
   "source": [
    "# Modify location column, such that any location with 10 or less houses is replaced with \"other_locations\".\n",
    "df1.location = df1.location.apply(lambda x: 'other_locations' if x in sparse_locations else x)"
   ]
  },
  {
   "cell_type": "markdown",
   "metadata": {},
   "source": [
    "Ok, let's have a look at how many locations we are left with..."
   ]
  },
  {
   "cell_type": "code",
   "execution_count": 10,
   "metadata": {},
   "outputs": [
    {
     "data": {
      "text/plain": [
       "242"
      ]
     },
     "execution_count": 10,
     "metadata": {},
     "output_type": "execute_result"
    }
   ],
   "source": [
    "len(df1.location.unique())"
   ]
  },
  {
   "cell_type": "markdown",
   "metadata": {},
   "source": [
    "Viola! We have a more consise location column."
   ]
  },
  {
   "cell_type": "code",
   "execution_count": 11,
   "metadata": {
    "execution": {
     "iopub.execute_input": "2022-06-30T15:32:52.698745Z",
     "iopub.status.busy": "2022-06-30T15:32:52.698334Z",
     "iopub.status.idle": "2022-06-30T15:32:52.713776Z",
     "shell.execute_reply": "2022-06-30T15:32:52.712732Z",
     "shell.execute_reply.started": "2022-06-30T15:32:52.698714Z"
    }
   },
   "outputs": [
    {
     "data": {
      "text/html": [
       "<div>\n",
       "<style scoped>\n",
       "    .dataframe tbody tr th:only-of-type {\n",
       "        vertical-align: middle;\n",
       "    }\n",
       "\n",
       "    .dataframe tbody tr th {\n",
       "        vertical-align: top;\n",
       "    }\n",
       "\n",
       "    .dataframe thead th {\n",
       "        text-align: right;\n",
       "    }\n",
       "</style>\n",
       "<table border=\"1\" class=\"dataframe\">\n",
       "  <thead>\n",
       "    <tr style=\"text-align: right;\">\n",
       "      <th></th>\n",
       "      <th>location</th>\n",
       "      <th>total_sqft</th>\n",
       "      <th>bath</th>\n",
       "      <th>price</th>\n",
       "      <th>bedrooms</th>\n",
       "      <th>price_per_sqft</th>\n",
       "    </tr>\n",
       "  </thead>\n",
       "  <tbody>\n",
       "    <tr>\n",
       "      <th>0</th>\n",
       "      <td>Electronic City Phase II</td>\n",
       "      <td>1056.0</td>\n",
       "      <td>2.0</td>\n",
       "      <td>39.07</td>\n",
       "      <td>2</td>\n",
       "      <td>3699.810606</td>\n",
       "    </tr>\n",
       "    <tr>\n",
       "      <th>1</th>\n",
       "      <td>Chikka Tirupathi</td>\n",
       "      <td>2600.0</td>\n",
       "      <td>5.0</td>\n",
       "      <td>120.00</td>\n",
       "      <td>4</td>\n",
       "      <td>4615.384615</td>\n",
       "    </tr>\n",
       "    <tr>\n",
       "      <th>2</th>\n",
       "      <td>Uttarahalli</td>\n",
       "      <td>1440.0</td>\n",
       "      <td>2.0</td>\n",
       "      <td>62.00</td>\n",
       "      <td>3</td>\n",
       "      <td>4305.555556</td>\n",
       "    </tr>\n",
       "    <tr>\n",
       "      <th>3</th>\n",
       "      <td>Lingadheeranahalli</td>\n",
       "      <td>1521.0</td>\n",
       "      <td>3.0</td>\n",
       "      <td>95.00</td>\n",
       "      <td>3</td>\n",
       "      <td>6245.890861</td>\n",
       "    </tr>\n",
       "    <tr>\n",
       "      <th>4</th>\n",
       "      <td>Kothanur</td>\n",
       "      <td>1200.0</td>\n",
       "      <td>2.0</td>\n",
       "      <td>51.00</td>\n",
       "      <td>2</td>\n",
       "      <td>4250.000000</td>\n",
       "    </tr>\n",
       "    <tr>\n",
       "      <th>5</th>\n",
       "      <td>Whitefield</td>\n",
       "      <td>1170.0</td>\n",
       "      <td>2.0</td>\n",
       "      <td>38.00</td>\n",
       "      <td>2</td>\n",
       "      <td>3247.863248</td>\n",
       "    </tr>\n",
       "    <tr>\n",
       "      <th>6</th>\n",
       "      <td>Old Airport Road</td>\n",
       "      <td>2732.0</td>\n",
       "      <td>4.0</td>\n",
       "      <td>204.00</td>\n",
       "      <td>4</td>\n",
       "      <td>7467.057101</td>\n",
       "    </tr>\n",
       "    <tr>\n",
       "      <th>7</th>\n",
       "      <td>Rajaji Nagar</td>\n",
       "      <td>3300.0</td>\n",
       "      <td>4.0</td>\n",
       "      <td>600.00</td>\n",
       "      <td>4</td>\n",
       "      <td>18181.818182</td>\n",
       "    </tr>\n",
       "    <tr>\n",
       "      <th>8</th>\n",
       "      <td>Marathahalli</td>\n",
       "      <td>1310.0</td>\n",
       "      <td>3.0</td>\n",
       "      <td>63.25</td>\n",
       "      <td>3</td>\n",
       "      <td>4828.244275</td>\n",
       "    </tr>\n",
       "    <tr>\n",
       "      <th>9</th>\n",
       "      <td>other_locations</td>\n",
       "      <td>1020.0</td>\n",
       "      <td>6.0</td>\n",
       "      <td>370.00</td>\n",
       "      <td>6</td>\n",
       "      <td>36274.509804</td>\n",
       "    </tr>\n",
       "  </tbody>\n",
       "</table>\n",
       "</div>"
      ],
      "text/plain": [
       "                   location  total_sqft  bath   price  bedrooms  \\\n",
       "0  Electronic City Phase II      1056.0   2.0   39.07         2   \n",
       "1          Chikka Tirupathi      2600.0   5.0  120.00         4   \n",
       "2               Uttarahalli      1440.0   2.0   62.00         3   \n",
       "3        Lingadheeranahalli      1521.0   3.0   95.00         3   \n",
       "4                  Kothanur      1200.0   2.0   51.00         2   \n",
       "5                Whitefield      1170.0   2.0   38.00         2   \n",
       "6          Old Airport Road      2732.0   4.0  204.00         4   \n",
       "7              Rajaji Nagar      3300.0   4.0  600.00         4   \n",
       "8              Marathahalli      1310.0   3.0   63.25         3   \n",
       "9           other_locations      1020.0   6.0  370.00         6   \n",
       "\n",
       "   price_per_sqft  \n",
       "0     3699.810606  \n",
       "1     4615.384615  \n",
       "2     4305.555556  \n",
       "3     6245.890861  \n",
       "4     4250.000000  \n",
       "5     3247.863248  \n",
       "6     7467.057101  \n",
       "7    18181.818182  \n",
       "8     4828.244275  \n",
       "9    36274.509804  "
      ]
     },
     "execution_count": 11,
     "metadata": {},
     "output_type": "execute_result"
    }
   ],
   "source": [
    "df1.head(10)"
   ]
  },
  {
   "cell_type": "markdown",
   "metadata": {},
   "source": [
    "In the previous notebook, we saw a particular house with 43 bedrooms and barely 2400sqft, how anomalous could that be? You tell me.  \n",
    "Another typical example of an anomaly is the 10th entry in the dataframe, __df.loc[9]__. Here a house has 6 bedrooms and barely 1020sqft.  \n",
    "These are typical outliers, perhaps errors that could be in a dataset and one must address them to avoid skewing the model's outcome.  \n",
    "<br>\n",
    "To address this issue, you could use a rule of thumb; perhaps, you can filter any entry where the sqft per bedroom is below a certain threshold. I'll use 320..."
   ]
  },
  {
   "cell_type": "code",
   "execution_count": 12,
   "metadata": {},
   "outputs": [
    {
     "name": "stdout",
     "output_type": "stream",
     "text": [
      "967\n"
     ]
    },
    {
     "data": {
      "text/html": [
       "<div>\n",
       "<style scoped>\n",
       "    .dataframe tbody tr th:only-of-type {\n",
       "        vertical-align: middle;\n",
       "    }\n",
       "\n",
       "    .dataframe tbody tr th {\n",
       "        vertical-align: top;\n",
       "    }\n",
       "\n",
       "    .dataframe thead th {\n",
       "        text-align: right;\n",
       "    }\n",
       "</style>\n",
       "<table border=\"1\" class=\"dataframe\">\n",
       "  <thead>\n",
       "    <tr style=\"text-align: right;\">\n",
       "      <th></th>\n",
       "      <th>location</th>\n",
       "      <th>total_sqft</th>\n",
       "      <th>bath</th>\n",
       "      <th>price</th>\n",
       "      <th>bedrooms</th>\n",
       "      <th>price_per_sqft</th>\n",
       "    </tr>\n",
       "  </thead>\n",
       "  <tbody>\n",
       "    <tr>\n",
       "      <th>9</th>\n",
       "      <td>other_locations</td>\n",
       "      <td>1020.0</td>\n",
       "      <td>6.0</td>\n",
       "      <td>370.0</td>\n",
       "      <td>6</td>\n",
       "      <td>36274.509804</td>\n",
       "    </tr>\n",
       "    <tr>\n",
       "      <th>45</th>\n",
       "      <td>HSR Layout</td>\n",
       "      <td>600.0</td>\n",
       "      <td>9.0</td>\n",
       "      <td>200.0</td>\n",
       "      <td>8</td>\n",
       "      <td>33333.333333</td>\n",
       "    </tr>\n",
       "    <tr>\n",
       "      <th>58</th>\n",
       "      <td>Murugeshpalya</td>\n",
       "      <td>1407.0</td>\n",
       "      <td>4.0</td>\n",
       "      <td>150.0</td>\n",
       "      <td>6</td>\n",
       "      <td>10660.980810</td>\n",
       "    </tr>\n",
       "    <tr>\n",
       "      <th>68</th>\n",
       "      <td>Devarachikkanahalli</td>\n",
       "      <td>1350.0</td>\n",
       "      <td>7.0</td>\n",
       "      <td>85.0</td>\n",
       "      <td>8</td>\n",
       "      <td>6296.296296</td>\n",
       "    </tr>\n",
       "    <tr>\n",
       "      <th>70</th>\n",
       "      <td>other_locations</td>\n",
       "      <td>500.0</td>\n",
       "      <td>3.0</td>\n",
       "      <td>100.0</td>\n",
       "      <td>3</td>\n",
       "      <td>20000.000000</td>\n",
       "    </tr>\n",
       "  </tbody>\n",
       "</table>\n",
       "</div>"
      ],
      "text/plain": [
       "               location  total_sqft  bath  price  bedrooms  price_per_sqft\n",
       "9       other_locations      1020.0   6.0  370.0         6    36274.509804\n",
       "45           HSR Layout       600.0   9.0  200.0         8    33333.333333\n",
       "58        Murugeshpalya      1407.0   4.0  150.0         6    10660.980810\n",
       "68  Devarachikkanahalli      1350.0   7.0   85.0         8     6296.296296\n",
       "70      other_locations       500.0   3.0  100.0         3    20000.000000"
      ]
     },
     "execution_count": 12,
     "metadata": {},
     "output_type": "execute_result"
    }
   ],
   "source": [
    "# The entries in the dataset where the quotient of the total_sqft/bedrooms < 320.\n",
    "print(len(df1[df1.total_sqft/df1.bedrooms<320]))\n",
    "df1[df1.total_sqft/df1.bedrooms<320].head()"
   ]
  },
  {
   "cell_type": "markdown",
   "metadata": {},
   "source": [
    "Wow! There are a lot of them.  Observe __loc[45]__; a 600sqft house having 8 bedrooms, seems very anomalous.  \n",
    "These type of entries are classified as outliers, and also need to be addressed before training a model.  \n",
    "We'll handle several outliers in the next notebook... __Outlier Filtering__."
   ]
  },
  {
   "cell_type": "code",
   "execution_count": 13,
   "metadata": {},
   "outputs": [
    {
     "name": "stdout",
     "output_type": "stream",
     "text": [
      "Stored 'df1' (DataFrame)\n"
     ]
    }
   ],
   "source": [
    "# Save the processed dataframe.\n",
    "%store df1"
   ]
  },
  {
   "cell_type": "code",
   "execution_count": 14,
   "metadata": {},
   "outputs": [],
   "source": [
    "# ifunanyaScript"
   ]
  }
 ],
 "metadata": {
  "kernelspec": {
   "display_name": "Python 3 (ipykernel)",
   "language": "python",
   "name": "python3"
  },
  "language_info": {
   "codemirror_mode": {
    "name": "ipython",
    "version": 3
   },
   "file_extension": ".py",
   "mimetype": "text/x-python",
   "name": "python",
   "nbconvert_exporter": "python",
   "pygments_lexer": "ipython3",
   "version": "3.9.12"
  }
 },
 "nbformat": 4,
 "nbformat_minor": 4
}
